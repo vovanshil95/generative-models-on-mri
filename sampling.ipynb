{
 "cells": [
  {
   "cell_type": "code",
   "execution_count": 1,
   "id": "d6944385-682f-402e-9536-9fabe66428e8",
   "metadata": {
    "execution": {
     "iopub.execute_input": "2024-06-21T18:56:30.201288Z",
     "iopub.status.busy": "2024-06-21T18:56:30.200654Z",
     "iopub.status.idle": "2024-06-21T18:56:30.328269Z",
     "shell.execute_reply": "2024-06-21T18:56:30.327022Z",
     "shell.execute_reply.started": "2024-06-21T18:56:30.201236Z"
    },
    "tags": []
   },
   "outputs": [
    {
     "name": "stdout",
     "output_type": "stream",
     "text": [
      "/home/jupyter/work/resources\n"
     ]
    }
   ],
   "source": [
    "!pwd"
   ]
  },
  {
   "cell_type": "code",
   "execution_count": 3,
   "id": "e1e51f7b-4752-4cab-8dc4-e4e6c87ef352",
   "metadata": {
    "execution": {
     "iopub.execute_input": "2024-06-21T18:57:14.691165Z",
     "iopub.status.busy": "2024-06-21T18:57:14.689946Z",
     "iopub.status.idle": "2024-06-21T18:57:14.717062Z",
     "shell.execute_reply": "2024-06-21T18:57:14.715793Z",
     "shell.execute_reply.started": "2024-06-21T18:57:14.691111Z"
    },
    "tags": []
   },
   "outputs": [
    {
     "name": "stdout",
     "output_type": "stream",
     "text": [
      "/home/jupyter/work/resources/med-ddpm\n"
     ]
    }
   ],
   "source": [
    "%cd med-ddpm"
   ]
  },
  {
   "cell_type": "code",
   "execution_count": 2,
   "id": "8cdd76be-2136-4786-b66d-7794f159d2bf",
   "metadata": {
    "execution": {
     "iopub.execute_input": "2024-06-21T18:56:41.301256Z",
     "iopub.status.busy": "2024-06-21T18:56:41.299903Z",
     "iopub.status.idle": "2024-06-21T18:56:49.724085Z",
     "shell.execute_reply": "2024-06-21T18:56:49.722430Z",
     "shell.execute_reply.started": "2024-06-21T18:56:41.301216Z"
    },
    "tags": []
   },
   "outputs": [
    {
     "name": "stdout",
     "output_type": "stream",
     "text": [
      "Defaulting to user installation because normal site-packages is not writeable\n",
      "Looking in indexes: https://pypi.org/simple, https://download.pytorch.org/whl/cu116\n",
      "Requirement already satisfied: torch==1.13.1+cu116 in /home/jupyter/.local/lib/python3.10/site-packages (1.13.1+cu116)\n",
      "Requirement already satisfied: torchvision==0.14.1+cu116 in /home/jupyter/.local/lib/python3.10/site-packages (0.14.1+cu116)\n",
      "Requirement already satisfied: typing-extensions in /usr/local/lib/python3.10/dist-packages (from torch==1.13.1+cu116) (4.7.1)\n",
      "Requirement already satisfied: numpy in /usr/local/lib/python3.10/dist-packages (from torchvision==0.14.1+cu116) (1.22.4)\n",
      "Requirement already satisfied: requests in /usr/local/lib/python3.10/dist-packages (from torchvision==0.14.1+cu116) (2.27.1)\n",
      "Requirement already satisfied: pillow!=8.3.*,>=5.3.0 in /usr/local/lib/python3.10/dist-packages (from torchvision==0.14.1+cu116) (9.4.0)\n",
      "Requirement already satisfied: urllib3<1.27,>=1.21.1 in /usr/local/lib/python3.10/dist-packages (from requests->torchvision==0.14.1+cu116) (1.26.16)\n",
      "Requirement already satisfied: certifi>=2017.4.17 in /usr/local/lib/python3.10/dist-packages (from requests->torchvision==0.14.1+cu116) (2023.7.22)\n",
      "Requirement already satisfied: charset-normalizer~=2.0.0 in /usr/local/lib/python3.10/dist-packages (from requests->torchvision==0.14.1+cu116) (2.0.12)\n",
      "Requirement already satisfied: idna<4,>=2.5 in /usr/local/lib/python3.10/dist-packages (from requests->torchvision==0.14.1+cu116) (3.4)\n",
      "\n",
      "\u001b[1m[\u001b[0m\u001b[34;49mnotice\u001b[0m\u001b[1;39;49m]\u001b[0m\u001b[39;49m A new release of pip is available: \u001b[0m\u001b[31;49m23.0.1\u001b[0m\u001b[39;49m -> \u001b[0m\u001b[32;49m24.1\u001b[0m\n",
      "\u001b[1m[\u001b[0m\u001b[34;49mnotice\u001b[0m\u001b[1;39;49m]\u001b[0m\u001b[39;49m To update, run: \u001b[0m\u001b[32;49mpython3 -m pip install --upgrade pip\u001b[0m\n"
     ]
    }
   ],
   "source": [
    "%pip install torch==1.13.1+cu116 torchvision==0.14.1+cu116 --extra-index-url https://download.pytorch.org/whl/cu116"
   ]
  },
  {
   "cell_type": "code",
   "execution_count": 4,
   "id": "9806802a-601e-4bc2-917b-38a1d690cca4",
   "metadata": {
    "execution": {
     "iopub.execute_input": "2024-06-21T18:57:23.258972Z",
     "iopub.status.busy": "2024-06-21T18:57:23.257853Z",
     "iopub.status.idle": "2024-06-21T18:57:28.748247Z",
     "shell.execute_reply": "2024-06-21T18:57:28.746962Z",
     "shell.execute_reply.started": "2024-06-21T18:57:23.258936Z"
    },
    "tags": []
   },
   "outputs": [
    {
     "name": "stdout",
     "output_type": "stream",
     "text": [
      "Defaulting to user installation because normal site-packages is not writeable\n",
      "Requirement already satisfied: torchio==0.18.86 in /home/jupyter/.local/lib/python3.10/site-packages (from -r requirements.txt (line 1)) (0.18.86)\n",
      "Requirement already satisfied: nibabel==4.0.2 in /usr/local/lib/python3.10/dist-packages (from -r requirements.txt (line 2)) (4.0.2)\n",
      "Requirement already satisfied: Deprecated in /home/jupyter/.local/lib/python3.10/site-packages (from torchio==0.18.86->-r requirements.txt (line 1)) (1.2.14)\n",
      "Requirement already satisfied: SimpleITK!=2.0.*,!=2.1.1.1 in /home/jupyter/.local/lib/python3.10/site-packages (from torchio==0.18.86->-r requirements.txt (line 1)) (2.3.1)\n",
      "Requirement already satisfied: humanize in /usr/local/lib/python3.10/dist-packages (from torchio==0.18.86->-r requirements.txt (line 1)) (4.6.0)\n",
      "Requirement already satisfied: numpy>=1.15 in /usr/local/lib/python3.10/dist-packages (from torchio==0.18.86->-r requirements.txt (line 1)) (1.22.4)\n",
      "Requirement already satisfied: scipy in /usr/local/lib/python3.10/dist-packages (from torchio==0.18.86->-r requirements.txt (line 1)) (1.10.1)\n",
      "Requirement already satisfied: torch>=1.1 in /home/jupyter/.local/lib/python3.10/site-packages (from torchio==0.18.86->-r requirements.txt (line 1)) (1.13.1+cu116)\n",
      "Requirement already satisfied: tqdm in /usr/local/lib/python3.10/dist-packages (from torchio==0.18.86->-r requirements.txt (line 1)) (4.65.0)\n",
      "Requirement already satisfied: typer[all] in /usr/local/lib/python3.10/dist-packages (from torchio==0.18.86->-r requirements.txt (line 1)) (0.9.0)\n",
      "Requirement already satisfied: packaging>=17.0 in /usr/local/lib/python3.10/dist-packages (from nibabel==4.0.2->-r requirements.txt (line 2)) (23.1)\n",
      "Requirement already satisfied: setuptools in /kernel/lib/python3.10/site-packages (from nibabel==4.0.2->-r requirements.txt (line 2)) (65.5.0)\n",
      "Requirement already satisfied: typing-extensions in /usr/local/lib/python3.10/dist-packages (from torch>=1.1->torchio==0.18.86->-r requirements.txt (line 1)) (4.7.1)\n",
      "Requirement already satisfied: wrapt<2,>=1.10 in /usr/local/lib/python3.10/dist-packages (from Deprecated->torchio==0.18.86->-r requirements.txt (line 1)) (1.14.1)\n",
      "Requirement already satisfied: click<9.0.0,>=7.1.1 in /usr/local/lib/python3.10/dist-packages (from typer[all]->torchio==0.18.86->-r requirements.txt (line 1)) (8.1.6)\n",
      "Requirement already satisfied: colorama<0.5.0,>=0.4.3 in /usr/local/lib/python3.10/dist-packages (from typer[all]->torchio==0.18.86->-r requirements.txt (line 1)) (0.4.6)\n",
      "Requirement already satisfied: shellingham<2.0.0,>=1.3.0 in /home/jupyter/.local/lib/python3.10/site-packages (from typer[all]->torchio==0.18.86->-r requirements.txt (line 1)) (1.5.4)\n",
      "Requirement already satisfied: rich<14.0.0,>=10.11.0 in /usr/local/lib/python3.10/dist-packages (from typer[all]->torchio==0.18.86->-r requirements.txt (line 1)) (13.4.2)\n",
      "Requirement already satisfied: markdown-it-py>=2.2.0 in /usr/local/lib/python3.10/dist-packages (from rich<14.0.0,>=10.11.0->typer[all]->torchio==0.18.86->-r requirements.txt (line 1)) (3.0.0)\n",
      "Requirement already satisfied: pygments<3.0.0,>=2.13.0 in /usr/local/lib/python3.10/dist-packages (from rich<14.0.0,>=10.11.0->typer[all]->torchio==0.18.86->-r requirements.txt (line 1)) (2.14.0)\n",
      "Requirement already satisfied: mdurl~=0.1 in /usr/local/lib/python3.10/dist-packages (from markdown-it-py>=2.2.0->rich<14.0.0,>=10.11.0->typer[all]->torchio==0.18.86->-r requirements.txt (line 1)) (0.1.2)\n",
      "\n",
      "\u001b[1m[\u001b[0m\u001b[34;49mnotice\u001b[0m\u001b[1;39;49m]\u001b[0m\u001b[39;49m A new release of pip is available: \u001b[0m\u001b[31;49m23.0.1\u001b[0m\u001b[39;49m -> \u001b[0m\u001b[32;49m24.1\u001b[0m\n",
      "\u001b[1m[\u001b[0m\u001b[34;49mnotice\u001b[0m\u001b[1;39;49m]\u001b[0m\u001b[39;49m To update, run: \u001b[0m\u001b[32;49mpython3 -m pip install --upgrade pip\u001b[0m\n"
     ]
    }
   ],
   "source": [
    "%pip install -r requirements.txt"
   ]
  },
  {
   "cell_type": "code",
   "execution_count": 5,
   "id": "a5b7a25e-afd0-4baa-a762-ef2c4b94a81b",
   "metadata": {
    "execution": {
     "iopub.execute_input": "2024-06-21T18:57:32.259122Z",
     "iopub.status.busy": "2024-06-21T18:57:32.258009Z",
     "iopub.status.idle": "2024-06-21T18:57:37.666698Z",
     "shell.execute_reply": "2024-06-21T18:57:37.665447Z",
     "shell.execute_reply.started": "2024-06-21T18:57:32.259083Z"
    },
    "tags": []
   },
   "outputs": [
    {
     "name": "stdout",
     "output_type": "stream",
     "text": [
      "Defaulting to user installation because normal site-packages is not writeable\n",
      "Requirement already satisfied: einops in /home/jupyter/.local/lib/python3.10/site-packages (0.8.0)\n",
      "\n",
      "\u001b[1m[\u001b[0m\u001b[34;49mnotice\u001b[0m\u001b[1;39;49m]\u001b[0m\u001b[39;49m A new release of pip is available: \u001b[0m\u001b[31;49m23.0.1\u001b[0m\u001b[39;49m -> \u001b[0m\u001b[32;49m24.1\u001b[0m\n",
      "\u001b[1m[\u001b[0m\u001b[34;49mnotice\u001b[0m\u001b[1;39;49m]\u001b[0m\u001b[39;49m To update, run: \u001b[0m\u001b[32;49mpython3 -m pip install --upgrade pip\u001b[0m\n"
     ]
    }
   ],
   "source": [
    "%pip install einops"
   ]
  },
  {
   "cell_type": "code",
   "execution_count": 6,
   "id": "0cc3772d-7110-47fa-89b6-553a5a7fdc70",
   "metadata": {
    "execution": {
     "iopub.execute_input": "2024-06-21T18:57:37.669623Z",
     "iopub.status.busy": "2024-06-21T18:57:37.668908Z",
     "iopub.status.idle": "2024-06-21T18:57:37.690822Z",
     "shell.execute_reply": "2024-06-21T18:57:37.689746Z",
     "shell.execute_reply.started": "2024-06-21T18:57:37.669569Z"
    },
    "tags": []
   },
   "outputs": [
    {
     "name": "stdout",
     "output_type": "stream",
     "text": [
      "/home/jupyter/work/resources/med-ddpm/scripts\n"
     ]
    }
   ],
   "source": [
    "%cd scripts"
   ]
  },
  {
   "cell_type": "code",
   "execution_count": null,
   "id": "a7fd3a99-54f6-4d1a-af3e-792e824bbac0",
   "metadata": {
    "execution": {
     "iopub.execute_input": "2024-06-21T20:38:10.252481Z",
     "iopub.status.busy": "2024-06-21T20:38:10.250813Z"
    }
   },
   "outputs": [
    {
     "name": "stdout",
     "output_type": "stream",
     "text": [
      "221\n",
      "Model Loaded!\n",
      "LEFT:  220\n",
      "All Step: 1\n",
      "Step [1/1]\n"
     ]
    },
    {
     "name": "stderr",
     "output_type": "stream",
     "text": [
      "sampling loop time step: 100%|██████████| 250/250 [02:26<00:00,  1.70it/s]\n"
     ]
    },
    {
     "name": "stdout",
     "output_type": "stream",
     "text": [
      "OK!\n",
      "LEFT:  219\n",
      "All Step: 1\n",
      "Step [1/1]\n"
     ]
    },
    {
     "name": "stderr",
     "output_type": "stream",
     "text": [
      "sampling loop time step: 100%|██████████| 250/250 [02:26<00:00,  1.70it/s]\n"
     ]
    },
    {
     "name": "stdout",
     "output_type": "stream",
     "text": [
      "OK!\n",
      "LEFT:  218\n",
      "All Step: 1\n",
      "Step [1/1]\n"
     ]
    },
    {
     "name": "stderr",
     "output_type": "stream",
     "text": [
      "sampling loop time step: 100%|██████████| 250/250 [02:27<00:00,  1.70it/s]\n"
     ]
    },
    {
     "name": "stdout",
     "output_type": "stream",
     "text": [
      "OK!\n",
      "LEFT:  217\n",
      "All Step: 1\n",
      "Step [1/1]\n"
     ]
    },
    {
     "name": "stderr",
     "output_type": "stream",
     "text": [
      "sampling loop time step: 100%|██████████| 250/250 [02:27<00:00,  1.70it/s]\n"
     ]
    },
    {
     "name": "stdout",
     "output_type": "stream",
     "text": [
      "OK!\n",
      "LEFT:  216\n",
      "All Step: 1\n",
      "Step [1/1]\n"
     ]
    },
    {
     "name": "stderr",
     "output_type": "stream",
     "text": [
      "sampling loop time step: 100%|██████████| 250/250 [02:27<00:00,  1.70it/s]\n"
     ]
    },
    {
     "name": "stdout",
     "output_type": "stream",
     "text": [
      "OK!\n",
      "LEFT:  215\n",
      "All Step: 1\n",
      "Step [1/1]\n"
     ]
    },
    {
     "name": "stderr",
     "output_type": "stream",
     "text": [
      "sampling loop time step: 100%|██████████| 250/250 [02:27<00:00,  1.70it/s]\n"
     ]
    },
    {
     "name": "stdout",
     "output_type": "stream",
     "text": [
      "OK!\n",
      "LEFT:  212\n",
      "All Step: 1\n",
      "Step [1/1]\n"
     ]
    },
    {
     "name": "stderr",
     "output_type": "stream",
     "text": [
      "sampling loop time step: 100%|██████████| 250/250 [02:27<00:00,  1.70it/s]\n"
     ]
    },
    {
     "name": "stdout",
     "output_type": "stream",
     "text": [
      "OK!\n",
      "LEFT:  211\n",
      "All Step: 1\n",
      "Step [1/1]\n"
     ]
    },
    {
     "name": "stderr",
     "output_type": "stream",
     "text": [
      "sampling loop time step: 100%|██████████| 250/250 [02:26<00:00,  1.70it/s]\n"
     ]
    },
    {
     "name": "stdout",
     "output_type": "stream",
     "text": [
      "OK!\n",
      "LEFT:  210\n",
      "All Step: 1\n",
      "Step [1/1]\n"
     ]
    },
    {
     "name": "stderr",
     "output_type": "stream",
     "text": [
      "sampling loop time step: 100%|██████████| 250/250 [02:27<00:00,  1.70it/s]\n"
     ]
    },
    {
     "name": "stdout",
     "output_type": "stream",
     "text": [
      "OK!\n",
      "LEFT:  209\n",
      "All Step: 1\n",
      "Step [1/1]\n"
     ]
    },
    {
     "name": "stderr",
     "output_type": "stream",
     "text": [
      "sampling loop time step: 100%|██████████| 250/250 [02:26<00:00,  1.70it/s]\n"
     ]
    },
    {
     "name": "stdout",
     "output_type": "stream",
     "text": [
      "OK!\n",
      "LEFT:  208\n",
      "All Step: 1\n",
      "Step [1/1]\n"
     ]
    },
    {
     "name": "stderr",
     "output_type": "stream",
     "text": [
      "sampling loop time step: 100%|██████████| 250/250 [02:27<00:00,  1.70it/s]\n"
     ]
    },
    {
     "name": "stdout",
     "output_type": "stream",
     "text": [
      "OK!\n",
      "LEFT:  207\n",
      "All Step: 1\n",
      "Step [1/1]\n"
     ]
    },
    {
     "name": "stderr",
     "output_type": "stream",
     "text": [
      "sampling loop time step: 100%|██████████| 250/250 [02:27<00:00,  1.70it/s]\n"
     ]
    },
    {
     "name": "stdout",
     "output_type": "stream",
     "text": [
      "OK!\n",
      "LEFT:  206\n",
      "All Step: 1\n",
      "Step [1/1]\n"
     ]
    },
    {
     "name": "stderr",
     "output_type": "stream",
     "text": [
      "sampling loop time step: 100%|██████████| 250/250 [02:27<00:00,  1.70it/s]\n"
     ]
    },
    {
     "name": "stdout",
     "output_type": "stream",
     "text": [
      "OK!\n",
      "LEFT:  205\n",
      "All Step: 1\n",
      "Step [1/1]\n"
     ]
    },
    {
     "name": "stderr",
     "output_type": "stream",
     "text": [
      "sampling loop time step: 100%|██████████| 250/250 [02:27<00:00,  1.70it/s]\n"
     ]
    },
    {
     "name": "stdout",
     "output_type": "stream",
     "text": [
      "OK!\n",
      "LEFT:  204\n",
      "All Step: 1\n",
      "Step [1/1]\n"
     ]
    },
    {
     "name": "stderr",
     "output_type": "stream",
     "text": [
      "sampling loop time step: 100%|██████████| 250/250 [02:27<00:00,  1.70it/s]\n"
     ]
    },
    {
     "name": "stdout",
     "output_type": "stream",
     "text": [
      "OK!\n",
      "LEFT:  203\n",
      "All Step: 1\n",
      "Step [1/1]\n"
     ]
    },
    {
     "name": "stderr",
     "output_type": "stream",
     "text": [
      "sampling loop time step: 100%|██████████| 250/250 [02:27<00:00,  1.70it/s]\n"
     ]
    },
    {
     "name": "stdout",
     "output_type": "stream",
     "text": [
      "OK!\n",
      "LEFT:  202\n",
      "All Step: 1\n",
      "Step [1/1]\n"
     ]
    },
    {
     "name": "stderr",
     "output_type": "stream",
     "text": [
      "sampling loop time step: 100%|██████████| 250/250 [02:26<00:00,  1.70it/s]\n"
     ]
    },
    {
     "name": "stdout",
     "output_type": "stream",
     "text": [
      "OK!\n",
      "LEFT:  201\n",
      "All Step: 1\n",
      "Step [1/1]\n"
     ]
    },
    {
     "name": "stderr",
     "output_type": "stream",
     "text": [
      "sampling loop time step: 100%|██████████| 250/250 [02:26<00:00,  1.70it/s]\n"
     ]
    },
    {
     "name": "stdout",
     "output_type": "stream",
     "text": [
      "OK!\n",
      "LEFT:  200\n",
      "All Step: 1\n",
      "Step [1/1]\n"
     ]
    },
    {
     "name": "stderr",
     "output_type": "stream",
     "text": [
      "sampling loop time step: 100%|██████████| 250/250 [02:27<00:00,  1.70it/s]\n"
     ]
    },
    {
     "name": "stdout",
     "output_type": "stream",
     "text": [
      "OK!\n",
      "LEFT:  199\n",
      "All Step: 1\n",
      "Step [1/1]\n"
     ]
    },
    {
     "name": "stderr",
     "output_type": "stream",
     "text": [
      "sampling loop time step: 100%|██████████| 250/250 [02:27<00:00,  1.70it/s]\n"
     ]
    },
    {
     "name": "stdout",
     "output_type": "stream",
     "text": [
      "OK!\n",
      "LEFT:  198\n",
      "All Step: 1\n",
      "Step [1/1]\n"
     ]
    },
    {
     "name": "stderr",
     "output_type": "stream",
     "text": [
      "sampling loop time step: 100%|██████████| 250/250 [02:27<00:00,  1.70it/s]\n"
     ]
    },
    {
     "name": "stdout",
     "output_type": "stream",
     "text": [
      "OK!\n",
      "LEFT:  197\n",
      "All Step: 1\n",
      "Step [1/1]\n"
     ]
    },
    {
     "name": "stderr",
     "output_type": "stream",
     "text": [
      "sampling loop time step: 100%|██████████| 250/250 [02:26<00:00,  1.70it/s]\n"
     ]
    },
    {
     "name": "stdout",
     "output_type": "stream",
     "text": [
      "OK!\n",
      "LEFT:  196\n",
      "All Step: 1\n",
      "Step [1/1]\n"
     ]
    },
    {
     "name": "stderr",
     "output_type": "stream",
     "text": [
      "sampling loop time step: 100%|██████████| 250/250 [02:27<00:00,  1.70it/s]\n"
     ]
    },
    {
     "name": "stdout",
     "output_type": "stream",
     "text": [
      "OK!\n",
      "LEFT:  195\n",
      "All Step: 1\n",
      "Step [1/1]\n"
     ]
    },
    {
     "name": "stderr",
     "output_type": "stream",
     "text": [
      "sampling loop time step: 100%|██████████| 250/250 [02:27<00:00,  1.70it/s]\n"
     ]
    },
    {
     "name": "stdout",
     "output_type": "stream",
     "text": [
      "OK!\n",
      "LEFT:  194\n",
      "All Step: 1\n",
      "Step [1/1]\n"
     ]
    },
    {
     "name": "stderr",
     "output_type": "stream",
     "text": [
      "sampling loop time step: 100%|██████████| 250/250 [02:27<00:00,  1.70it/s]\n"
     ]
    },
    {
     "name": "stdout",
     "output_type": "stream",
     "text": [
      "OK!\n",
      "LEFT:  193\n",
      "All Step: 1\n",
      "Step [1/1]\n"
     ]
    },
    {
     "name": "stderr",
     "output_type": "stream",
     "text": [
      "sampling loop time step: 100%|██████████| 250/250 [02:27<00:00,  1.70it/s]\n"
     ]
    },
    {
     "name": "stdout",
     "output_type": "stream",
     "text": [
      "OK!\n",
      "LEFT:  192\n",
      "All Step: 1\n",
      "Step [1/1]\n"
     ]
    },
    {
     "name": "stderr",
     "output_type": "stream",
     "text": [
      "sampling loop time step: 100%|██████████| 250/250 [02:27<00:00,  1.70it/s]\n"
     ]
    },
    {
     "name": "stdout",
     "output_type": "stream",
     "text": [
      "OK!\n",
      "LEFT:  191\n",
      "All Step: 1\n",
      "Step [1/1]\n"
     ]
    },
    {
     "name": "stderr",
     "output_type": "stream",
     "text": [
      "sampling loop time step: 100%|██████████| 250/250 [02:26<00:00,  1.70it/s]\n"
     ]
    },
    {
     "name": "stdout",
     "output_type": "stream",
     "text": [
      "OK!\n",
      "LEFT:  190\n",
      "All Step: 1\n",
      "Step [1/1]\n"
     ]
    },
    {
     "name": "stderr",
     "output_type": "stream",
     "text": [
      "sampling loop time step: 100%|██████████| 250/250 [02:27<00:00,  1.70it/s]\n"
     ]
    },
    {
     "name": "stdout",
     "output_type": "stream",
     "text": [
      "OK!\n",
      "LEFT:  189\n",
      "All Step: 1\n",
      "Step [1/1]\n"
     ]
    },
    {
     "name": "stderr",
     "output_type": "stream",
     "text": [
      "sampling loop time step: 100%|██████████| 250/250 [02:27<00:00,  1.70it/s]\n"
     ]
    },
    {
     "name": "stdout",
     "output_type": "stream",
     "text": [
      "OK!\n",
      "LEFT:  188\n",
      "All Step: 1\n",
      "Step [1/1]\n"
     ]
    },
    {
     "name": "stderr",
     "output_type": "stream",
     "text": [
      "sampling loop time step: 100%|██████████| 250/250 [02:27<00:00,  1.70it/s]\n"
     ]
    },
    {
     "name": "stdout",
     "output_type": "stream",
     "text": [
      "OK!\n",
      "LEFT:  187\n",
      "All Step: 1\n",
      "Step [1/1]\n"
     ]
    },
    {
     "name": "stderr",
     "output_type": "stream",
     "text": [
      "sampling loop time step: 100%|██████████| 250/250 [02:27<00:00,  1.70it/s]\n"
     ]
    },
    {
     "name": "stdout",
     "output_type": "stream",
     "text": [
      "OK!\n",
      "LEFT:  186\n",
      "All Step: 1\n",
      "Step [1/1]\n"
     ]
    },
    {
     "name": "stderr",
     "output_type": "stream",
     "text": [
      "sampling loop time step:  90%|█████████ | 226/250 [02:12<00:14,  1.69it/s]"
     ]
    }
   ],
   "source": [
    "%run ../sample.py --inputfolder ../dataset/stroke_brains/mask --exportfolder ../exports_78_ckpt/ --input_size 128 --depth_size 128 --num_channels 64 --num_res_blocks 1 --batchsize 1 --num_samples 1 --weightfile \"./results/model-78.pt\""
   ]
  },
  {
   "cell_type": "code",
   "execution_count": null,
   "id": "129379ed-f07e-4d67-a36c-6a210a86a079",
   "metadata": {},
   "outputs": [],
   "source": []
  }
 ],
 "metadata": {
  "kernelspec": {
   "display_name": "DataSphere Kernel",
   "language": "python",
   "name": "python3"
  },
  "language_info": {
   "codemirror_mode": {
    "name": "ipython",
    "version": 3
   },
   "file_extension": ".py",
   "mimetype": "text/x-python",
   "name": "python",
   "nbconvert_exporter": "python",
   "pygments_lexer": "ipython3",
   "version": "3.10.12"
  }
 },
 "nbformat": 4,
 "nbformat_minor": 5
}
